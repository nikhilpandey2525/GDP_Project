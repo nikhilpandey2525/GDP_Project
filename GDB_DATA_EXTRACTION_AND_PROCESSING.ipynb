{
 "cells": [
  {
   "cell_type": "markdown",
   "id": "e09d69ea-aeba-4a08-867d-55d8a29a3dcd",
   "metadata": {},
   "source": [
    "# 🌍 GDP Data Extraction and Processing Project\n",
    "\n",
    "This beginner-level project extracts GDP data of countries from a Wikipedia page using web scraping. It processes and converts the GDP values from Million USD to Billion USD using Python's pandas and numpy libraries."
   ]
  },
  {
   "cell_type": "code",
   "execution_count": 39,
   "id": "8b2df97a-f58f-410d-89c7-aff0f50320f6",
   "metadata": {},
   "outputs": [],
   "source": [
    "import numpy as np\n",
    "import pandas as pd\n",
    "import seaborn as sns\n",
    "import matplotlib.pyplot as plt\n",
    "def warn(*args, **kwargs):\n",
    "    pass\n",
    "import warnings\n",
    "warnings.warn = warn\n",
    "warnings.filterwarnings('ignore')"
   ]
  },
  {
   "cell_type": "markdown",
   "id": "888aec08-6ce3-42fc-9bec-34d55a78ce24",
   "metadata": {},
   "source": [
    "<img src=\"https://cf-courses-data.s3.us.cloud-object-storage.appdomain.cloud/IBMDeveloperSkillsNetwork-PY0101EN-SkillsNetwork/images/pandas_wbs_3.png\">\n"
   ]
  },
  {
   "cell_type": "markdown",
   "id": "afc2eded-8ba7-4467-a49a-147856e029c3",
   "metadata": {},
   "source": [
    "# STEPS\n",
    "### Step 1\n",
    "**Extract the required GDP data from the given URL using Web Scraping.**"
   ]
  },
  {
   "cell_type": "code",
   "execution_count": 5,
   "id": "160b8565-0207-4077-9870-ab184a57b89c",
   "metadata": {},
   "outputs": [],
   "source": [
    "URL=\"https://web.archive.org/web/20230902185326/https://en.wikipedia.org/wiki/List_of_countries_by_GDP_%28nominal%29\""
   ]
  },
  {
   "cell_type": "code",
   "execution_count": 20,
   "id": "eb9098f7-b2d4-4d94-998d-77ecd5176336",
   "metadata": {},
   "outputs": [
    {
     "data": {
      "text/html": [
       "<div>\n",
       "<style scoped>\n",
       "    .dataframe tbody tr th:only-of-type {\n",
       "        vertical-align: middle;\n",
       "    }\n",
       "\n",
       "    .dataframe tbody tr th {\n",
       "        vertical-align: top;\n",
       "    }\n",
       "\n",
       "    .dataframe thead th {\n",
       "        text-align: right;\n",
       "    }\n",
       "</style>\n",
       "<table border=\"1\" class=\"dataframe\">\n",
       "  <thead>\n",
       "    <tr style=\"text-align: right;\">\n",
       "      <th></th>\n",
       "      <th>Country</th>\n",
       "      <th>GDP(Million USD)</th>\n",
       "    </tr>\n",
       "  </thead>\n",
       "  <tbody>\n",
       "    <tr>\n",
       "      <th>1</th>\n",
       "      <td>United States</td>\n",
       "      <td>26854599</td>\n",
       "    </tr>\n",
       "    <tr>\n",
       "      <th>2</th>\n",
       "      <td>China</td>\n",
       "      <td>19373586</td>\n",
       "    </tr>\n",
       "    <tr>\n",
       "      <th>3</th>\n",
       "      <td>Japan</td>\n",
       "      <td>4409738</td>\n",
       "    </tr>\n",
       "    <tr>\n",
       "      <th>4</th>\n",
       "      <td>Germany</td>\n",
       "      <td>4308854</td>\n",
       "    </tr>\n",
       "    <tr>\n",
       "      <th>5</th>\n",
       "      <td>India</td>\n",
       "      <td>3736882</td>\n",
       "    </tr>\n",
       "    <tr>\n",
       "      <th>6</th>\n",
       "      <td>United Kingdom</td>\n",
       "      <td>3158938</td>\n",
       "    </tr>\n",
       "    <tr>\n",
       "      <th>7</th>\n",
       "      <td>France</td>\n",
       "      <td>2923489</td>\n",
       "    </tr>\n",
       "    <tr>\n",
       "      <th>8</th>\n",
       "      <td>Italy</td>\n",
       "      <td>2169745</td>\n",
       "    </tr>\n",
       "    <tr>\n",
       "      <th>9</th>\n",
       "      <td>Canada</td>\n",
       "      <td>2089672</td>\n",
       "    </tr>\n",
       "    <tr>\n",
       "      <th>10</th>\n",
       "      <td>Brazil</td>\n",
       "      <td>2081235</td>\n",
       "    </tr>\n",
       "  </tbody>\n",
       "</table>\n",
       "</div>"
      ],
      "text/plain": [
       "           Country GDP(Million USD)\n",
       "1    United States         26854599\n",
       "2            China         19373586\n",
       "3            Japan          4409738\n",
       "4          Germany          4308854\n",
       "5            India          3736882\n",
       "6   United Kingdom          3158938\n",
       "7           France          2923489\n",
       "8            Italy          2169745\n",
       "9           Canada          2089672\n",
       "10          Brazil          2081235"
      ]
     },
     "execution_count": 20,
     "metadata": {},
     "output_type": "execute_result"
    }
   ],
   "source": [
    "# Extract tables from webpage using Pandas. Retain table number 3 as the required dataframe.\n",
    "Table=pd.read_html(URL)\n",
    "df=Table[3]\n",
    "df\n",
    "# Replace the column headers with column numbers\n",
    "df.columns = range(df.shape[1])\n",
    "# Retain columns with index 0 and 2 (name of country and value of GDP quoted by IMF)\n",
    "df=df[[0,2]]\n",
    "# Retain the Rows with index 1 to 10, indicating the top 10 economies of the world.\n",
    "df=df.iloc[1:11,:]\n",
    "# Assign column names as \"Country\" and \"GDP (Million USD)\"\n",
    "df.columns=['Country','GDP(Million USD)']"
   ]
  },
  {
   "cell_type": "markdown",
   "id": "94e68f32-5450-4f5b-9808-8e8bb2eb44c0",
   "metadata": {},
   "source": [
    "### Step 2\n",
    "Modify the GDP column of the DataFrame, converting the value available in Million USD to Billion USD. Use the `round()` method of Numpy library to round the value to 2 decimal places. Modify the header of the DataFrame to `GDP (Billion USD)`"
   ]
  },
  {
   "cell_type": "code",
   "execution_count": 32,
   "id": "fff31c36-29f0-4e42-8220-bb934c2daed9",
   "metadata": {},
   "outputs": [
    {
     "data": {
      "text/html": [
       "<div>\n",
       "<style scoped>\n",
       "    .dataframe tbody tr th:only-of-type {\n",
       "        vertical-align: middle;\n",
       "    }\n",
       "\n",
       "    .dataframe tbody tr th {\n",
       "        vertical-align: top;\n",
       "    }\n",
       "\n",
       "    .dataframe thead th {\n",
       "        text-align: right;\n",
       "    }\n",
       "</style>\n",
       "<table border=\"1\" class=\"dataframe\">\n",
       "  <thead>\n",
       "    <tr style=\"text-align: right;\">\n",
       "      <th></th>\n",
       "      <th>Country</th>\n",
       "      <th>GDP(Million USD)</th>\n",
       "      <th>GDP(Billion USD)</th>\n",
       "    </tr>\n",
       "  </thead>\n",
       "  <tbody>\n",
       "    <tr>\n",
       "      <th>1</th>\n",
       "      <td>United States</td>\n",
       "      <td>26854</td>\n",
       "      <td>26.85</td>\n",
       "    </tr>\n",
       "    <tr>\n",
       "      <th>2</th>\n",
       "      <td>China</td>\n",
       "      <td>19373</td>\n",
       "      <td>19.37</td>\n",
       "    </tr>\n",
       "    <tr>\n",
       "      <th>3</th>\n",
       "      <td>Japan</td>\n",
       "      <td>4409</td>\n",
       "      <td>4.41</td>\n",
       "    </tr>\n",
       "    <tr>\n",
       "      <th>4</th>\n",
       "      <td>Germany</td>\n",
       "      <td>4308</td>\n",
       "      <td>4.31</td>\n",
       "    </tr>\n",
       "    <tr>\n",
       "      <th>5</th>\n",
       "      <td>India</td>\n",
       "      <td>3736</td>\n",
       "      <td>3.74</td>\n",
       "    </tr>\n",
       "    <tr>\n",
       "      <th>6</th>\n",
       "      <td>United Kingdom</td>\n",
       "      <td>3158</td>\n",
       "      <td>3.16</td>\n",
       "    </tr>\n",
       "    <tr>\n",
       "      <th>7</th>\n",
       "      <td>France</td>\n",
       "      <td>2923</td>\n",
       "      <td>2.92</td>\n",
       "    </tr>\n",
       "    <tr>\n",
       "      <th>8</th>\n",
       "      <td>Italy</td>\n",
       "      <td>2169</td>\n",
       "      <td>2.17</td>\n",
       "    </tr>\n",
       "    <tr>\n",
       "      <th>9</th>\n",
       "      <td>Canada</td>\n",
       "      <td>2089</td>\n",
       "      <td>2.09</td>\n",
       "    </tr>\n",
       "    <tr>\n",
       "      <th>10</th>\n",
       "      <td>Brazil</td>\n",
       "      <td>2081</td>\n",
       "      <td>2.08</td>\n",
       "    </tr>\n",
       "  </tbody>\n",
       "</table>\n",
       "</div>"
      ],
      "text/plain": [
       "           Country  GDP(Million USD)  GDP(Billion USD)\n",
       "1    United States             26854             26.85\n",
       "2            China             19373             19.37\n",
       "3            Japan              4409              4.41\n",
       "4          Germany              4308              4.31\n",
       "5            India              3736              3.74\n",
       "6   United Kingdom              3158              3.16\n",
       "7           France              2923              2.92\n",
       "8            Italy              2169              2.17\n",
       "9           Canada              2089              2.09\n",
       "10          Brazil              2081              2.08"
      ]
     },
     "execution_count": 32,
     "metadata": {},
     "output_type": "execute_result"
    }
   ],
   "source": [
    "# Change the data type of the 'GDP (Million USD)' column to integer. Use astype() method.\n",
    "df['GDP(Million USD)'] = df['GDP(Million USD)'].astype(int)\n",
    "# Convert the GDP value in Million USD to Billion USD\n",
    "df['GDP(Billion USD)']= df['GDP(Million USD)']/1000\n",
    "# Use numpy.round() method to round the value to 2 decimal places.\n",
    "df['GDP(Billion USD)']=np.round(df['GDP(Billion USD)'],2)\n",
    "# Now we have \n",
    "df"
   ]
  },
  {
   "cell_type": "markdown",
   "id": "2a657a8d-e954-4a0c-a0e3-1b7c76c30c1a",
   "metadata": {},
   "source": [
    "### 📊 Step 3: Visualize the GDP Data\n",
    "\n",
    "The following bar chart visualizes the GDP (in Billion USD) of the top economies in the world, based on the extracted and processed data."
   ]
  },
  {
   "cell_type": "code",
   "execution_count": 55,
   "id": "3483af0a-e6b0-4b8e-b856-d2087fa4f0b2",
   "metadata": {
    "scrolled": true
   },
   "outputs": [
    {
     "data": {
      "image/png": "[encoded data removed]",
      "text/plain": [
       "<Figure size 1000x600 with 1 Axes>"
      ]
     },
     "metadata": {},
     "output_type": "display_data"
    }
   ],
   "source": [
    "# Set Seaborn style\n",
    "sns.set(style=\"whitegrid\")\n",
    "\n",
    "# Create a cool horizontal bar plot\n",
    "plt.figure(figsize=(10, 6))\n",
    "sns.barplot(\n",
    "    data=df.sort_values(\"GDP(Billion USD)\", ascending=False),\n",
    "    y=\"Country\",\n",
    "    x=\"GDP(Billion USD)\",\n",
    "    palette=\"crest\"\n",
    ")\n",
    "\n",
    "# Add title and labels\n",
    "plt.title(\"🌍 Top Countries by GDP (Billion USD)\", fontsize=16, weight='bold')\n",
    "plt.xlabel(\"GDP in Billion USD\", fontsize=12)\n",
    "plt.ylabel(\"\")\n",
    "\n",
    "# Add value labels on bars\n",
    "for index, value in enumerate(df.sort_values(\"GDP(Billion USD)\", ascending=False)[\"GDP(Billion USD)\"]):\n",
    "    plt.text(value + 0.2, index, f\"{value:.2f}\", va='center')\n",
    "\n",
    "plt.tight_layout()\n",
    "plt.savefig(\"gdp_chart.png\", dpi=300)\n",
    "plt.show()"
   ]
  },
  {
   "cell_type": "markdown",
   "id": "68b5c804-cebe-4b52-b56b-e155d05e9dd7",
   "metadata": {},
   "source": [
    "## 📌 Conclusion\n",
    "\n",
    "In this beginner-friendly data project, we successfully **extracted, cleaned, and transformed GDP data** for multiple countries using Python.\n",
    "\n",
    "### 🔧 Key Steps Performed:\n",
    "- Extracted GDP data from a structured table (web or local source)\n",
    "- Cleaned the data and removed formatting issues\n",
    "- Converted GDP values from **millions** to **billions** for better comparison\n",
    "- Created a final DataFrame with both **Million** and **Billion** GDP columns\n",
    "\n",
    "### 📊 Visualization:\n",
    "We included a basic **horizontal bar chart** using Seaborn to visualize the top countries by GDP. This helped in presenting the data more clearly and identifying the largest economies at a glance.\n",
    "\n",
    "### ✅ Final Outcome:\n",
    "- The dataset is now clean and structured\n",
    "- Basic data visualization adds more understanding to the numbers\n",
    "- Ready for future use in analysis, dashboards, or machine learning\n",
    "\n",
    "---\n",
    "\n",
    "> 🔍 **This project gave hands-on experience with Pandas, NumPy, and Seaborn — showing how even simple data processing and visualization can produce powerful insights.**\n"
   ]
  },
  {
   "cell_type": "code",
   "execution_count": null,
   "id": "6e9ca075-c877-4584-b0de-c9d564af0057",
   "metadata": {},
   "outputs": [],
   "source": []
  }
 ],
 "metadata": {
  "kernelspec": {
   "display_name": "Python [conda env:base] *",
   "language": "python",
   "name": "conda-base-py"
  },
  "language_info": {
   "codemirror_mode": {
    "name": "ipython",
    "version": 3
   },
   "file_extension": ".py",
   "mimetype": "text/x-python",
   "name": "python",
   "nbconvert_exporter": "python",
   "pygments_lexer": "ipython3",
   "version": "3.12.7"
  }
 },
 "nbformat": 4,
 "nbformat_minor": 5
}
